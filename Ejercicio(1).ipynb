{
  "nbformat": 4,
  "nbformat_minor": 0,
  "metadata": {
    "colab": {
      "provenance": [],
      "authorship_tag": "ABX9TyNcaUL+ZbJAW03r1G0N9eze",
      "include_colab_link": true
    },
    "kernelspec": {
      "name": "python3",
      "display_name": "Python 3"
    },
    "language_info": {
      "name": "python"
    }
  },
  "cells": [
    {
      "cell_type": "markdown",
      "metadata": {
        "id": "view-in-github",
        "colab_type": "text"
      },
      "source": [
        "<a href=\"https://colab.research.google.com/github/Alvanatus/Simulacion-ll/blob/main/Ejercicio(1).ipynb\" target=\"_parent\"><img src=\"https://colab.research.google.com/assets/colab-badge.svg\" alt=\"Open In Colab\"/></a>"
      ]
    },
    {
      "cell_type": "markdown",
      "source": [
        "**Ejercicio 3**\n"
      ],
      "metadata": {
        "id": "4Wbdm1UdivYD"
      }
    },
    {
      "cell_type": "code",
      "source": [
        "import numpy as np\n",
        "from scipy.stats import chi2\n",
        "\n",
        "# Datos proporcionados\n",
        "data = np.array([38, 33, 25, 5, 69, 35, 98, 52, 12, 79,\n",
        "                 50, 46, 95, 42, 49, 11, 78, 34, 2, 43,\n",
        "                 7, 50, 5, 91, 77, 18, 21, 4, 17, 62,\n",
        "                 91, 36, 48, 88, 52, 76, 99, 73, 82, 90])\n",
        "\n",
        "# Definir intervalos\n",
        "num_intervals = 10\n",
        "interval_limits = np.linspace(min(data), max(data), num_intervals+1)\n",
        "\n",
        "# Contar frecuencia observada en cada intervalo\n",
        "observed_freq, _ = np.histogram(data, bins=interval_limits)\n",
        "\n",
        "# Calcular frecuencia esperada\n",
        "expected_freq = len(data) / num_intervals\n",
        "\n",
        "# Calcular chi^2\n",
        "chi_squared = np.sum((observed_freq - expected_freq)**2 / expected_freq)\n",
        "\n",
        "# Grados de libertad\n",
        "df = num_intervals - 1\n",
        "\n",
        "# Valor crítico para un nivel de significancia del 95%\n",
        "alpha = 0.05\n",
        "critical_value = chi2.ppf(1 - alpha, df)\n",
        "\n",
        "# Comparar con valor crítico\n",
        "if chi_squared > critical_value:\n",
        "    print(f'Rechazar la hipótesis nula. Chi^2 = {chi_squared} > Valor Crítico = {critical_value}')\n",
        "else:\n",
        "    print(f'No se puede rechazar la hipótesis nula. Chi^2 = {chi_squared} <= Valor Crítico = {critical_value}')\n"
      ],
      "metadata": {
        "colab": {
          "base_uri": "https://localhost:8080/"
        },
        "id": "ufyqD503jYl_",
        "outputId": "9c03bdc8-d735-4f39-a107-048fd5d21c04"
      },
      "execution_count": null,
      "outputs": [
        {
          "output_type": "stream",
          "name": "stdout",
          "text": [
            "No se puede rechazar la hipótesis nula. Chi^2 = 10.0 <= Valor Crítico = 16.918977604620448\n"
          ]
        }
      ]
    },
    {
      "cell_type": "markdown",
      "source": [
        "**Ejercicio 4**"
      ],
      "metadata": {
        "id": "sKjgBhJ3iz-0"
      }
    },
    {
      "cell_type": "code",
      "source": [
        "import numpy as np\n",
        "from scipy.stats import chi2\n",
        "\n",
        "# Datos proporcionados\n",
        "data = np.array([0.8797, 0.3884, 0.6289, 0.8750, 0.5999, 0.8589, 0.9996, 0.2415, 0.3808, 0.9606,\n",
        "                 0.9848, 0.3469, 0.7977, 0.5844, 0.8147, 0.6431, 0.7387, 0.5613, 0.0318, 0.7401,\n",
        "                 0.4557, 0.1592, 0.8536, 0.8846, 0.3410, 0.1492, 0.8681, 0.5291, 0.3188, 0.5992,\n",
        "                 0.9170, 0.2204, 0.5991, 0.5461, 0.5739, 0.3254, 0.0856, 0.2258, 0.4603, 0.5027,\n",
        "                 0.8376, 0.6235, 0.3681, 0.2088, 0.1525, 0.2006, 0.4720, 0.4272, 0.6360, 0.0954])\n",
        "\n",
        "# Definir intervalos\n",
        "num_intervals = 10\n",
        "interval_limits = np.linspace(0, 1, num_intervals+1)\n",
        "\n",
        "# Contar frecuencia observada en cada intervalo\n",
        "observed_freq, _ = np.histogram(data, bins=interval_limits)\n",
        "\n",
        "# Calcular frecuencia esperada\n",
        "expected_freq = len(data) / num_intervals\n",
        "\n",
        "# Calcular chi^2\n",
        "chi_squared = np.sum((observed_freq - expected_freq)**2 / expected_freq)\n",
        "\n",
        "# Grados de libertad\n",
        "df = num_intervals - 1\n",
        "\n",
        "# Valor crítico para un nivel de significancia del 95%\n",
        "alpha = 0.05\n",
        "critical_value = chi2.ppf(1 - alpha, df)\n",
        "\n",
        "# Comparar con valor crítico\n",
        "if chi_squared > critical_value:\n",
        "    print(f'Rechazar la hipótesis nula. Chi^2 = {chi_squared} > Valor Crítico = {critical_value}')\n",
        "else:\n",
        "    print(f'No se puede rechazar la hipótesis nula. Chi^2 = {chi_squared} <= Valor Crítico = {critical_value}')\n"
      ],
      "metadata": {
        "colab": {
          "base_uri": "https://localhost:8080/"
        },
        "id": "mI-R-xCvjClm",
        "outputId": "8b56a929-7bc5-455a-d5de-efb7140a28ae"
      },
      "execution_count": null,
      "outputs": [
        {
          "output_type": "stream",
          "name": "stdout",
          "text": [
            "No se puede rechazar la hipótesis nula. Chi^2 = 8.8 <= Valor Crítico = 16.918977604620448\n"
          ]
        }
      ]
    }
  ]
}